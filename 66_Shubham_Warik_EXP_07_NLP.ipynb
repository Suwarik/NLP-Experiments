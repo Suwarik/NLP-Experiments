{
  "nbformat": 4,
  "nbformat_minor": 0,
  "metadata": {
    "colab": {
      "provenance": []
    },
    "kernelspec": {
      "name": "python3",
      "display_name": "Python 3"
    },
    "language_info": {
      "name": "python"
    }
  },
  "cells": [
    {
      "cell_type": "markdown",
      "source": [
        "Shubham Warik\n",
        "CSE(DS)\n",
        "Roll No.:-66\n",
        "EXP-7"
      ],
      "metadata": {
        "id": "pXREje8oIHUn"
      }
    },
    {
      "cell_type": "code",
      "execution_count": null,
      "metadata": {
        "id": "XAMexUo9Clhq"
      },
      "outputs": [],
      "source": [
        "import spacy"
      ]
    },
    {
      "cell_type": "markdown",
      "source": [
        "\n",
        "**Load the spaCy language model\n",
        "**"
      ],
      "metadata": {
        "id": "UNvQf5thCxwH"
      }
    },
    {
      "cell_type": "code",
      "source": [
        "nlp = spacy.load(\"en_core_web_sm\")"
      ],
      "metadata": {
        "id": "Lg-MsM4qC3g0"
      },
      "execution_count": null,
      "outputs": []
    },
    {
      "cell_type": "markdown",
      "source": [
        "**Sample text input**"
      ],
      "metadata": {
        "id": "RrnjYsPHDIIN"
      }
    },
    {
      "cell_type": "code",
      "source": [
        "text = \"Apple Inc. is a company based in Cupertino, California. John works for Google in Mountain View.\""
      ],
      "metadata": {
        "id": "KhFg1iRiDH4h"
      },
      "execution_count": null,
      "outputs": []
    },
    {
      "cell_type": "markdown",
      "source": [
        "**Process the text using spaCy**"
      ],
      "metadata": {
        "id": "eX2MlkwwDN44"
      }
    },
    {
      "cell_type": "code",
      "source": [
        "import spacy\n",
        "\n",
        "# Load the spaCy language model\n",
        "nlp = spacy.load(\"en_core_web_sm\")\n",
        "\n",
        "# Sample text input\n",
        "text = \"Apple Inc. is a company based in Cupertino, California. John works for Google in Mountain View.\"\n",
        "\n",
        "# Process the text using spaCy\n",
        "doc = nlp(text)\n",
        "\n",
        "# Initialize variables to store named entities\n",
        "named_entities = []\n",
        "\n",
        "# Define a function to extract named entities\n",
        "def extract_named_entities(doc):\n",
        "    entities = []\n",
        "    current_entity = None\n",
        "\n",
        "    for token in doc:\n",
        "        if token.ent_type_:\n",
        "            if current_entity and token.ent_type_ == current_entity[1]:\n",
        "                current_entity = (current_entity[0] + \" \" + token.text, token.ent_type_)\n",
        "            else:\n",
        "                if current_entity:\n",
        "                    entities.append(current_entity)\n",
        "                current_entity = (token.text, token.ent_type_)\n",
        "        else:\n",
        "            if current_entity:\n",
        "                entities.append(current_entity)\n",
        "            current_entity = None\n",
        "\n",
        "    if current_entity:\n",
        "        entities.append(current_entity)\n",
        "\n",
        "    return entities\n",
        "\n",
        "# Extract named entities\n",
        "named_entities = extract_named_entities(doc)\n",
        "\n",
        "# Print the named entities\n",
        "for entity, label in named_entities:\n",
        "    print(f\"Entity: {entity}, Label: {label}\")"
      ],
      "metadata": {
        "colab": {
          "base_uri": "https://localhost:8080/"
        },
        "id": "LYenczkPDRLK",
        "outputId": "5b7dfa18-741a-441c-8be2-ce7239ef5b7e"
      },
      "execution_count": null,
      "outputs": [
        {
          "output_type": "stream",
          "name": "stdout",
          "text": [
            "Entity: Apple Inc., Label: ORG\n",
            "Entity: Cupertino, Label: GPE\n",
            "Entity: California, Label: GPE\n",
            "Entity: John, Label: PERSON\n",
            "Entity: Google, Label: ORG\n",
            "Entity: Mountain View, Label: GPE\n"
          ]
        }
      ]
    }
  ]
}