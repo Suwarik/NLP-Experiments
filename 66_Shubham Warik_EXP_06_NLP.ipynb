{
  "nbformat": 4,
  "nbformat_minor": 0,
  "metadata": {
    "colab": {
      "provenance": []
    },
    "kernelspec": {
      "name": "python3",
      "display_name": "Python 3"
    },
    "language_info": {
      "name": "python"
    }
  },
  "cells": [
    {
      "cell_type": "markdown",
      "source": [
        "Shubham Warik\n",
        "CSE(DS)\n",
        "Roll No.:-66\n",
        "EXP-6"
      ],
      "metadata": {
        "id": "1UW0NWLfHjJ7"
      }
    },
    {
      "cell_type": "code",
      "execution_count": null,
      "metadata": {
        "colab": {
          "base_uri": "https://localhost:8080/"
        },
        "id": "6TVVvASo_wUd",
        "outputId": "c0eca9c1-0abb-4921-8a6c-2a57aaa1dd8c"
      },
      "outputs": [
        {
          "output_type": "stream",
          "name": "stderr",
          "text": [
            "[nltk_data] Downloading package punkt to /root/nltk_data...\n",
            "[nltk_data]   Unzipping tokenizers/punkt.zip.\n",
            "[nltk_data] Downloading package averaged_perceptron_tagger to\n",
            "[nltk_data]     /root/nltk_data...\n",
            "[nltk_data]   Unzipping taggers/averaged_perceptron_tagger.zip.\n"
          ]
        },
        {
          "output_type": "execute_result",
          "data": {
            "text/plain": [
              "True"
            ]
          },
          "metadata": {},
          "execution_count": 1
        }
      ],
      "source": [
        "import nltk\n",
        "nltk.download('punkt')\n",
        "nltk.download('averaged_perceptron_tagger')"
      ]
    },
    {
      "cell_type": "code",
      "source": [
        "from nltk.chunk import RegexpParser\n",
        "from nltk.tokenize import word_tokenize"
      ],
      "metadata": {
        "id": "P_bNuL8AAtos"
      },
      "execution_count": null,
      "outputs": []
    },
    {
      "cell_type": "code",
      "source": [
        "sentence = \"Educative Answers is a free web encyclopedia written by devs for devs.\""
      ],
      "metadata": {
        "id": "vpRzeu-sA0UB"
      },
      "execution_count": null,
      "outputs": []
    },
    {
      "cell_type": "markdown",
      "source": [
        "**Tokenization**"
      ],
      "metadata": {
        "id": "MHJO-ZmeBIkL"
      }
    },
    {
      "cell_type": "code",
      "source": [
        "tokens = word_tokenize(sentence)\n",
        "tokens"
      ],
      "metadata": {
        "colab": {
          "base_uri": "https://localhost:8080/"
        },
        "id": "j8iH5lMYA2vW",
        "outputId": "5c0908ac-c1b1-4b92-d6f4-6d0993098b86"
      },
      "execution_count": null,
      "outputs": [
        {
          "output_type": "execute_result",
          "data": {
            "text/plain": [
              "['Educative',\n",
              " 'Answers',\n",
              " 'is',\n",
              " 'a',\n",
              " 'free',\n",
              " 'web',\n",
              " 'encyclopedia',\n",
              " 'written',\n",
              " 'by',\n",
              " 'devs',\n",
              " 'for',\n",
              " 'devs',\n",
              " '.']"
            ]
          },
          "metadata": {},
          "execution_count": 4
        }
      ]
    },
    {
      "cell_type": "markdown",
      "source": [
        " **Pos tagging**"
      ],
      "metadata": {
        "id": "vkyw7YmSA9Vk"
      }
    },
    {
      "cell_type": "code",
      "source": [
        "\n",
        "pos_tags = nltk.pos_tag(tokens)\n",
        "pos_tags"
      ],
      "metadata": {
        "colab": {
          "base_uri": "https://localhost:8080/"
        },
        "id": "XlHj7kTSA4EV",
        "outputId": "22cdd336-f3fe-42ee-b38e-a928b6808782"
      },
      "execution_count": null,
      "outputs": [
        {
          "output_type": "execute_result",
          "data": {
            "text/plain": [
              "[('Educative', 'JJ'),\n",
              " ('Answers', 'NNPS'),\n",
              " ('is', 'VBZ'),\n",
              " ('a', 'DT'),\n",
              " ('free', 'JJ'),\n",
              " ('web', 'NN'),\n",
              " ('encyclopedia', 'NN'),\n",
              " ('written', 'VBN'),\n",
              " ('by', 'IN'),\n",
              " ('devs', 'NN'),\n",
              " ('for', 'IN'),\n",
              " ('devs', 'NN'),\n",
              " ('.', '.')]"
            ]
          },
          "metadata": {},
          "execution_count": 5
        }
      ]
    },
    {
      "cell_type": "markdown",
      "source": [
        "**Chunking patterns**"
      ],
      "metadata": {
        "id": "VHPvdTmeBGDT"
      }
    },
    {
      "cell_type": "code",
      "source": [
        "chunk_patterns = r\"\"\"\n",
        "    NP: {<DT>?<JJ>*<NN>}  # Chunk noun phrases\n",
        "    VP: {<VB.*><NP|PP>}  # Chunk verb phrases\n",
        "\"\"\""
      ],
      "metadata": {
        "id": "nYqUrQk6BDGw"
      },
      "execution_count": null,
      "outputs": []
    },
    {
      "cell_type": "code",
      "source": [
        "chunk_patterns"
      ],
      "metadata": {
        "colab": {
          "base_uri": "https://localhost:8080/",
          "height": 36
        },
        "id": "aWi53JMxBSUf",
        "outputId": "b6898d40-54c7-4e3d-a078-f009947e7801"
      },
      "execution_count": null,
      "outputs": [
        {
          "output_type": "execute_result",
          "data": {
            "text/plain": [
              "'\\n    NP: {<DT>?<JJ>*<NN>}  # Chunk noun phrases\\n    VP: {<VB.*><NP|PP>}  # Chunk verb phrases\\n'"
            ],
            "application/vnd.google.colaboratory.intrinsic+json": {
              "type": "string"
            }
          },
          "metadata": {},
          "execution_count": 7
        }
      ]
    },
    {
      "cell_type": "markdown",
      "source": [
        "**Create a chunk parser**"
      ],
      "metadata": {
        "id": "raHTamJvBcMy"
      }
    },
    {
      "cell_type": "code",
      "source": [
        "chunk_parser = RegexpParser(chunk_patterns)\n",
        "chunk_parser"
      ],
      "metadata": {
        "colab": {
          "base_uri": "https://localhost:8080/"
        },
        "id": "K1pgpuYyBZyD",
        "outputId": "e7292538-ae7a-4436-d936-66138aa36e96"
      },
      "execution_count": null,
      "outputs": [
        {
          "output_type": "execute_result",
          "data": {
            "text/plain": [
              "<chunk.RegexpParser with 2 stages>"
            ]
          },
          "metadata": {},
          "execution_count": 8
        }
      ]
    },
    {
      "cell_type": "markdown",
      "source": [
        "**Perform chunking**"
      ],
      "metadata": {
        "id": "MiPM5aEKBje2"
      }
    },
    {
      "cell_type": "code",
      "source": [
        "result = chunk_parser.parse(pos_tags)\n",
        "print(result)"
      ],
      "metadata": {
        "colab": {
          "base_uri": "https://localhost:8080/"
        },
        "id": "yC4--gsqBhLU",
        "outputId": "f55944dc-097e-48ad-e8cc-218fc4ee9f99"
      },
      "execution_count": null,
      "outputs": [
        {
          "output_type": "stream",
          "name": "stdout",
          "text": [
            "(S\n",
            "  Educative/JJ\n",
            "  Answers/NNPS\n",
            "  (VP is/VBZ (NP a/DT free/JJ web/NN))\n",
            "  (NP encyclopedia/NN)\n",
            "  written/VBN\n",
            "  by/IN\n",
            "  (NP devs/NN)\n",
            "  for/IN\n",
            "  (NP devs/NN)\n",
            "  ./.)\n"
          ]
        }
      ]
    }
  ]
}